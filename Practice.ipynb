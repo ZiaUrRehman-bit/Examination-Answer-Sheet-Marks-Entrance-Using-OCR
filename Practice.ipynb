{
 "cells": [
  {
   "attachments": {},
   "cell_type": "markdown",
   "metadata": {},
   "source": [
    "## **<center><font style=\"color:rgb(100,109,254)\">Examination Answer Sheet Marks Entrance Using OCR</font> </center>**\n",
    "### **<center><font style=\"color:rgb(100,109,254)\">Machine Learning Project</font> </center>**"
   ]
  },
  {
   "cell_type": "code",
   "execution_count": 1,
   "metadata": {},
   "outputs": [
    {
     "name": "stdout",
     "output_type": "stream",
     "text": [
      "4.6.0\n"
     ]
    }
   ],
   "source": [
    "import cv2\n",
    "print(cv2.__version__)\n",
    "import pytesseract\n",
    "\n",
    "pytesseract.pytesseract.tesseract_cmd = \"C:\\\\Program Files\\\\Tesseract-OCR\\\\tesseract.exe\"\n"
   ]
  },
  {
   "cell_type": "code",
   "execution_count": 2,
   "metadata": {},
   "outputs": [
    {
     "name": "stdout",
     "output_type": "stream",
     "text": [
      "['11.jpeg', '22.jpeg']\n",
      "StudentName : 0\n",
      "\n",
      "RegistrationNumber : 202203033\n",
      "\n",
      "Subject : -\n",
      "\n",
      "class : .-\n",
      "\n",
      "totalMarks : \n",
      "obtainedMarks : 23\n",
      "\n",
      "StudentName : \n",
      "RegistrationNumber : 202202033\n",
      "\n",
      "Subject : \n",
      "class : 8.-\n",
      "\n",
      "totalMarks : 2\n",
      "\n",
      "obtainedMarks : 238\n",
      "\n"
     ]
    }
   ],
   "source": [
    "import os\n",
    "import numpy as np\n",
    "\n",
    "imgq = cv2.imread(\"q1.jpeg\")\n",
    "h,w,c = imgq.shape\n",
    "imgq = cv2.resize(imgq, (w//3, h//3))\n",
    "\n",
    "orb = cv2.ORB_create(1000)\n",
    "kp1, des1 = orb.detectAndCompute(imgq,None)\n",
    "# imgKp1 = cv2.drawKeypoints(imgq, kp1, None)\n",
    "per = 25\n",
    "\n",
    "roi = [[(236, 294), (948, 388), 'text', 'StudentName'],\n",
    "        [(216, 372), (692, 450), 'text', 'RegistrationNumber'],\n",
    "        [(794, 382), (1254, 458), 'text', 'Subject'],\n",
    "        [(1060, 448), (1260, 520), 'text', 'class'],\n",
    "        [(1066, 646), (1250, 720), 'text', 'totalMarks'],\n",
    "        [(1068, 864), (1256, 938), 'text', 'obtainedMarks']]\n",
    "\n",
    "path = 'UserForms'\n",
    "myImageList = os.listdir(path)\n",
    "print(myImageList)\n",
    "\n",
    "for j, y in enumerate(myImageList):\n",
    "    img = cv2.imread(path+\"/\"+y)\n",
    "    img = cv2.resize(img, (w//3, h//3))\n",
    "    # img = cv2.resize(img, (w,h))\n",
    "    # cv2.imshow(\"ss\", img)\n",
    "    kp2, des2 =  orb.detectAndCompute(img,None)\n",
    "    bf = cv2.BFMatcher(cv2.NORM_HAMMING)\n",
    "    matches = bf.match(des2, des1)\n",
    "    # matches.sort(key= lambda x: x.distance)\n",
    "    good = matches[:int(len(matches)*(per/100))]\n",
    "\n",
    "    imgMatch = cv2.drawMatches(img, kp2, imgq, kp1, good[:100], None, flags=2)\n",
    "    # imgMatch = cv2.resize(imgMatch, (w,h))\n",
    "    # cv2.imshow(y, imgMatch)\n",
    "\n",
    "    srcPonits = np.float32([kp2[m.queryIdx].pt for m in good]).reshape(-1, 1, 2)\n",
    "    dstPonits = np.float32([kp1[m.trainIdx].pt for m in good]).reshape(-1, 1, 2)\n",
    "\n",
    "    M, _ = cv2.findHomography(srcPonits, dstPonits, cv2.RANSAC, 5.0)\n",
    "    imgScan = cv2.warpPerspective(img, M, (w//3, h//3))\n",
    "    imgScan = cv2.resize(imgScan, (w,h))\n",
    "    cv2.imshow(y, imgScan)\n",
    "\n",
    "    imgShow = imgScan.copy()\n",
    "    imgMask = np.zeros_like(imgScan)\n",
    "\n",
    "    for x,r in enumerate(roi):\n",
    "\n",
    "        cv2.rectangle(imgMask, (r[0][0], r[0][1]), (r[1][0], r[1][1]), (0,255,0), cv2.FILLED)\n",
    "        imgShow = cv2.addWeighted(imgShow, 0.99, imgMask, 0.1, 0)\n",
    "\n",
    "        imgCrop = imgScan[r[0][1]:r[1][1], r[0][0]:r[1][0]]\n",
    "        cv2.imshow(str(x), imgCrop)\n",
    "\n",
    "        if r[2] == 'text':\n",
    "            confg = r'--oem 3 --psm 6 outputbase digits'\n",
    "            print(f\"{r[3]} : {pytesseract.image_to_string(imgCrop, config=confg)}\")\n",
    "\n",
    "    imgShow = cv2.resize(imgShow, (w,h))\n",
    "    cv2.imshow(y+\"2\", imgShow)\n",
    "\n",
    "\n",
    "\n",
    "\n",
    "\n",
    "# cv2.imshow(\"Image KP1\", imgKp1)\n",
    "cv2.imshow(\"Image\", imgq)\n",
    "cv2.waitKey()\n",
    "cv2.destroyAllWindows()"
   ]
  },
  {
   "cell_type": "code",
   "execution_count": 3,
   "metadata": {},
   "outputs": [],
   "source": [
    "cv2.destroyAllWindows()"
   ]
  },
  {
   "attachments": {},
   "cell_type": "markdown",
   "metadata": {},
   "source": [
    "## GUI"
   ]
  },
  {
   "cell_type": "code",
   "execution_count": 15,
   "metadata": {},
   "outputs": [
    {
     "ename": "AttributeError",
     "evalue": "'Frame' object has no attribute 'add_cascade'",
     "output_type": "error",
     "traceback": [
      "\u001b[1;31m---------------------------------------------------------------------------\u001b[0m",
      "\u001b[1;31mAttributeError\u001b[0m                            Traceback (most recent call last)",
      "\u001b[1;32mc:\\Users\\hp\\Google Drive\\Fiverr Work\\2022\\37. Examination Answer Sheet Marks Entrance Using OCR\\Practice.ipynb Cell 6\u001b[0m in \u001b[0;36m2\n\u001b[0;32m     <a href='vscode-notebook-cell:/c%3A/Users/hp/Google%20Drive/Fiverr%20Work/2022/37.%20Examination%20Answer%20Sheet%20Marks%20Entrance%20Using%20OCR/Practice.ipynb#W4sZmlsZQ%3D%3D?line=21'>22</a>\u001b[0m toolbar_file \u001b[39m=\u001b[39m tk\u001b[39m.\u001b[39mMenu(toolbar, tearoff\u001b[39m=\u001b[39m\u001b[39mFalse\u001b[39;00m)\n\u001b[0;32m     <a href='vscode-notebook-cell:/c%3A/Users/hp/Google%20Drive/Fiverr%20Work/2022/37.%20Examination%20Answer%20Sheet%20Marks%20Entrance%20Using%20OCR/Practice.ipynb#W4sZmlsZQ%3D%3D?line=22'>23</a>\u001b[0m toolbar_file\u001b[39m.\u001b[39madd_cascade(label\u001b[39m=\u001b[39m\u001b[39m\"\u001b[39m\u001b[39mFile\u001b[39m\u001b[39m\"\u001b[39m, menu\u001b[39m=\u001b[39mfile_menu)\n\u001b[1;32m---> <a href='vscode-notebook-cell:/c%3A/Users/hp/Google%20Drive/Fiverr%20Work/2022/37.%20Examination%20Answer%20Sheet%20Marks%20Entrance%20Using%20OCR/Practice.ipynb#W4sZmlsZQ%3D%3D?line=23'>24</a>\u001b[0m toolbar\u001b[39m.\u001b[39;49madd_cascade(label\u001b[39m=\u001b[39m\u001b[39m\"\u001b[39m\u001b[39mFile\u001b[39m\u001b[39m\"\u001b[39m, menu\u001b[39m=\u001b[39mtoolbar_file)\n\u001b[0;32m     <a href='vscode-notebook-cell:/c%3A/Users/hp/Google%20Drive/Fiverr%20Work/2022/37.%20Examination%20Answer%20Sheet%20Marks%20Entrance%20Using%20OCR/Practice.ipynb#W4sZmlsZQ%3D%3D?line=25'>26</a>\u001b[0m \u001b[39m# Add the toolbar to the window\u001b[39;00m\n\u001b[0;32m     <a href='vscode-notebook-cell:/c%3A/Users/hp/Google%20Drive/Fiverr%20Work/2022/37.%20Examination%20Answer%20Sheet%20Marks%20Entrance%20Using%20OCR/Practice.ipynb#W4sZmlsZQ%3D%3D?line=26'>27</a>\u001b[0m root\u001b[39m.\u001b[39mconfig(menu\u001b[39m=\u001b[39mtoolbar)\n",
      "\u001b[1;31mAttributeError\u001b[0m: 'Frame' object has no attribute 'add_cascade'"
     ]
    }
   ],
   "source": [
    "import tkinter as tk\n",
    "\n",
    "def open_camera_config():\n",
    "    # Code to open camera configuration window\n",
    "    pass\n",
    "\n",
    "root = tk.Tk()\n",
    "root.title(\"Examination Sheet Automation\")\n",
    "\n",
    "# Set the window size to the maximum available on the desktop\n",
    "root.geometry(\"{0}x{1}+0+0\".format(root.winfo_screenwidth(), root.winfo_screenheight()))\n",
    "\n",
    "# Create the toolbar frame\n",
    "toolbar = tk.Frame(root, bd=1, relief=tk.RAISED)\n",
    "\n",
    "# Create the file menu and add it to the toolbar\n",
    "file_menu = tk.Menu(toolbar, tearoff=False)\n",
    "file_menu.add_command(label=\"Open\", command=lambda: print(\"Open\"))\n",
    "file_menu.add_command(label=\"Save\", command=lambda: print(\"Save\"))\n",
    "file_menu.add_separator()\n",
    "file_menu.add_command(label=\"Camera Configuration\", command=open_camera_config)\n",
    "toolbar_file = tk.Menu(toolbar, tearoff=False)\n",
    "toolbar_file.add_cascade(label=\"File\", menu=file_menu)\n",
    "toolbar.add_cascade(label=\"File\", menu=toolbar_file)\n",
    "\n",
    "# Add the toolbar to the window\n",
    "root.config(menu=toolbar)\n",
    "\n",
    "\n",
    "root.mainloop()\n"
   ]
  },
  {
   "cell_type": "code",
   "execution_count": 23,
   "metadata": {},
   "outputs": [
    {
     "name": "stdout",
     "output_type": "stream",
     "text": [
      "Camera 1\n",
      "Camera 1\n",
      "Open\n"
     ]
    }
   ],
   "source": [
    "import tkinter as tk\n",
    "import cv2\n",
    "\n",
    "def open_camera_config():\n",
    "    # Code to open camera configuration window\n",
    "    pass\n",
    "\n",
    "def get_camera_list():\n",
    "    # Get the list of available cameras\n",
    "    camera_list = []\n",
    "    for i in range(10):\n",
    "        cap = cv2.VideoCapture(i)\n",
    "        if cap.isOpened():\n",
    "            camera_list.append(f\"Camera {i}\")\n",
    "            cap.release()\n",
    "    return camera_list\n",
    "\n",
    "root = tk.Tk()\n",
    "root.title(\"Examination Sheet Automation\")\n",
    "\n",
    "# Set the window size to the maximum available on the desktop\n",
    "root.geometry(\"{0}x{1}+0+0\".format(root.winfo_screenwidth(), root.winfo_screenheight()))\n",
    "\n",
    "# Create the menu bar\n",
    "menu_bar = tk.Menu(root)\n",
    "\n",
    "# Create the File menu and add it to the menu bar\n",
    "file_menu = tk.Menu(menu_bar, tearoff=False)\n",
    "file_menu.add_command(label=\"Open\", command=lambda: print(\"Open\"))\n",
    "file_menu.add_command(label=\"Save\", command=lambda: print(\"Save\"))\n",
    "menu_bar.add_cascade(label=\"File\", menu=file_menu)\n",
    "\n",
    "# Create the Edit menu and add it to the menu bar\n",
    "edit_menu = tk.Menu(menu_bar, tearoff=False)\n",
    "camera_list = get_camera_list()\n",
    "camera_menu = tk.Menu(edit_menu, tearoff=False)\n",
    "for camera in camera_list:\n",
    "    camera_menu.add_command(label=camera, command=lambda: print(camera))\n",
    "edit_menu.add_cascade(label=\"Select Camera\", menu=camera_menu)\n",
    "menu_bar.add_cascade(label=\"Camera Configuration\", menu=edit_menu)\n",
    "\n",
    "# Set the menu bar as the main menu of the window\n",
    "root.config(menu=menu_bar)\n",
    "\n",
    "root.mainloop()\n"
   ]
  },
  {
   "cell_type": "code",
   "execution_count": 26,
   "metadata": {},
   "outputs": [],
   "source": [
    "import tkinter as tk\n",
    "import cv2\n",
    "\n",
    "def open_camera_config():\n",
    "    # Code to open camera configuration window\n",
    "    pass\n",
    "\n",
    "def get_camera_list():\n",
    "    # Get the list of available cameras\n",
    "    camera_list = {}\n",
    "    for i in range(10):\n",
    "        cap = cv2.VideoCapture(i)\n",
    "        if cap.isOpened():\n",
    "            camera_list[f\"Camera {i}\"] = False\n",
    "            cap.release()\n",
    "    return camera_list\n",
    "\n",
    "def toggle_camera(camera_index):\n",
    "    global camera_list\n",
    "    camera_label = list(camera_list.keys())[camera_index]\n",
    "    camera_list[camera_label] = not camera_list[camera_label]\n",
    "    camera_menu.entryconfig(camera_index, label=f\"{camera_label} ✓\" if camera_list[camera_label] else camera_label)\n",
    "\n",
    "root = tk.Tk()\n",
    "root.title(\"Examination Sheet Automation\")\n",
    "\n",
    "# Set the window size to the maximum available on the desktop\n",
    "root.geometry(\"{0}x{1}+0+0\".format(root.winfo_screenwidth(), root.winfo_screenheight()))\n",
    "\n",
    "# Create the menu bar\n",
    "menu_bar = tk.Menu(root)\n",
    "\n",
    "# Create the File menu and add it to the menu bar\n",
    "file_menu = tk.Menu(menu_bar, tearoff=False)\n",
    "file_menu.add_command(label=\"Open\", command=lambda: print(\"Open\"))\n",
    "file_menu.add_command(label=\"Save\", command=lambda: print(\"Save\"))\n",
    "menu_bar.add_cascade(label=\"File\", menu=file_menu)\n",
    "\n",
    "# Create the Edit menu and add it to the menu bar\n",
    "edit_menu = tk.Menu(menu_bar, tearoff=False)\n",
    "camera_list = get_camera_list()\n",
    "camera_menu = tk.Menu(edit_menu, tearoff=False)\n",
    "for i, camera in enumerate(camera_list):\n",
    "    camera_menu.add_command(label=camera, command=lambda camera_index=i: toggle_camera(camera_index))\n",
    "edit_menu.add_cascade(label=\"Select Camera\", menu=camera_menu)\n",
    "menu_bar.add_cascade(label=\"Camera Configuration\", menu=edit_menu)\n",
    "\n",
    "# Set the menu bar as the main menu of the window\n",
    "root.config(menu=menu_bar)\n",
    "\n",
    "root.mainloop()\n"
   ]
  },
  {
   "cell_type": "code",
   "execution_count": 2,
   "metadata": {},
   "outputs": [
    {
     "ename": "",
     "evalue": "",
     "output_type": "error",
     "traceback": [
      "\u001b[1;31mCanceled future for execute_request message before replies were done"
     ]
    },
    {
     "ename": "",
     "evalue": "",
     "output_type": "error",
     "traceback": [
      "\u001b[1;31mThe Kernel crashed while executing code in the the current cell or a previous cell. Please review the code in the cell(s) to identify a possible cause of the failure. Click <a href='https://aka.ms/vscodeJupyterKernelCrash'>here</a> for more info. View Jupyter <a href='command:jupyter.viewOutput'>log</a> for further details."
     ]
    }
   ],
   "source": [
    "import tkinter as tk\n",
    "import cv2\n",
    "\n",
    "def open_camera_config():\n",
    "    # Code to open camera configuration window\n",
    "    pass\n",
    "\n",
    "def get_camera_list():\n",
    "    # Get the list of available cameras\n",
    "    camera_list = {}\n",
    "    for i in range(10):\n",
    "        cap = cv2.VideoCapture(i)\n",
    "        if cap.isOpened():\n",
    "            camera_list[f\"Camera {i}\"] = False\n",
    "            cap.release()\n",
    "    return camera_list\n",
    "\n",
    "def toggle_camera(camera_label):\n",
    "    # Toggle the selected status of the camera and update the label\n",
    "    camera_list[camera_label] = not camera_list[camera_label]\n",
    "    camera_menu.entryconfig(camera_label, label=f\"{camera_label} ✓\" if camera_list[camera_label] else camera_label)\n",
    "\n",
    "def open_camera(camera_label):\n",
    "    # Open the selected camera in a new window\n",
    "    cap = cv2.VideoCapture(int(camera_label.split()[-1]))\n",
    "    cv2.namedWindow(camera_label)\n",
    "    while True:\n",
    "        ret, frame = cap.read()\n",
    "        if not ret:\n",
    "            break\n",
    "        cv2.imshow(camera_label, frame)\n",
    "        if cv2.waitKey(1) == ord('q'):\n",
    "            break\n",
    "    cap.release()\n",
    "    cv2.destroyAllWindows()\n",
    "\n",
    "root = tk.Tk()\n",
    "root.title(\"Examination Sheet Automation\")\n",
    "\n",
    "# Set the window size to the maximum available on the desktop\n",
    "root.geometry(\"{0}x{1}+0+0\".format(root.winfo_screenwidth(), root.winfo_screenheight()))\n",
    "\n",
    "# Create the menu bar\n",
    "menu_bar = tk.Menu(root)\n",
    "\n",
    "# Create the File menu and add it to the menu bar\n",
    "file_menu = tk.Menu(menu_bar, tearoff=False)\n",
    "file_menu.add_command(label=\"Open\", command=lambda: print(\"Open\"))\n",
    "file_menu.add_command(label=\"Save\", command=lambda: print(\"Save\"))\n",
    "menu_bar.add_cascade(label=\"File\", menu=file_menu)\n",
    "\n",
    "# Create the Edit menu and add it to the menu bar\n",
    "edit_menu = tk.Menu(menu_bar, tearoff=False)\n",
    "camera_list = get_camera_list()\n",
    "camera_menu = tk.Menu(edit_menu, tearoff=False)\n",
    "for camera in camera_list:\n",
    "    camera_menu.add_command(label=camera, command=lambda camera=camera: (toggle_camera(camera), open_camera(camera)) if not camera_list[camera] else None)\n",
    "edit_menu.add_cascade(label=\"Select Camera\", menu=camera_menu)\n",
    "menu_bar.add_cascade(label=\"Camera Configuration\", menu=edit_menu)\n",
    "\n",
    "# Set the menu bar as the main menu of the window\n",
    "root.config(menu=menu_bar)\n",
    "\n",
    "root.mainloop()\n"
   ]
  },
  {
   "cell_type": "code",
   "execution_count": 5,
   "metadata": {},
   "outputs": [
    {
     "ename": "error",
     "evalue": "OpenCV(4.6.0) D:\\a\\opencv-python\\opencv-python\\opencv\\modules\\highgui\\src\\window.cpp:967: error: (-215:Assertion failed) size.width>0 && size.height>0 in function 'cv::imshow'\n",
     "output_type": "error",
     "traceback": [
      "\u001b[1;31m---------------------------------------------------------------------------\u001b[0m",
      "\u001b[1;31merror\u001b[0m                                     Traceback (most recent call last)",
      "\u001b[1;32mc:\\Users\\hp\\Google Drive\\Fiverr Work\\2022\\37. Examination Answer Sheet Marks Entrance Using OCR\\Practice.ipynb Cell 10\u001b[0m in \u001b[0;36m4\n\u001b[0;32m      <a href='vscode-notebook-cell:/c%3A/Users/hp/Google%20Drive/Fiverr%20Work/2022/37.%20Examination%20Answer%20Sheet%20Marks%20Entrance%20Using%20OCR/Practice.ipynb#X12sZmlsZQ%3D%3D?line=0'>1</a>\u001b[0m path \u001b[39m=\u001b[39m \u001b[39m\"\u001b[39m\u001b[39mC:\u001b[39m\u001b[39m\\\\\u001b[39;00m\u001b[39mUsers\u001b[39m\u001b[39m\\\\\u001b[39;00m\u001b[39mhp\u001b[39m\u001b[39m\\\\\u001b[39;00m\u001b[39mGoogle Drive\u001b[39m\u001b[39m\\\\\u001b[39;00m\u001b[39mFiverr Work\u001b[39m\u001b[39m\\\\\u001b[39;00m\u001b[39m2022\u001b[39m\u001b[39m\\\\\u001b[39;00m\u001b[39m37. Examination Answer Sheet Marks Entrance Using OCR\u001b[39m\u001b[39m\\\\\u001b[39;00m\u001b[39mUpdated\u001b[39m\u001b[39m\\\\\u001b[39;00m\u001b[39mAttendance Sheet Images\u001b[39m\u001b[39m\"\u001b[39m\n\u001b[0;32m      <a href='vscode-notebook-cell:/c%3A/Users/hp/Google%20Drive/Fiverr%20Work/2022/37.%20Examination%20Answer%20Sheet%20Marks%20Entrance%20Using%20OCR/Practice.ipynb#X12sZmlsZQ%3D%3D?line=1'>2</a>\u001b[0m img \u001b[39m=\u001b[39m cv2\u001b[39m.\u001b[39mimread(path\u001b[39m+\u001b[39m\u001b[39m\"\u001b[39m\u001b[39m02.jpeg\u001b[39m\u001b[39m\"\u001b[39m)\n\u001b[1;32m----> <a href='vscode-notebook-cell:/c%3A/Users/hp/Google%20Drive/Fiverr%20Work/2022/37.%20Examination%20Answer%20Sheet%20Marks%20Entrance%20Using%20OCR/Practice.ipynb#X12sZmlsZQ%3D%3D?line=3'>4</a>\u001b[0m cv2\u001b[39m.\u001b[39;49mimshow(\u001b[39m\"\u001b[39;49m\u001b[39mInput Image\u001b[39;49m\u001b[39m\"\u001b[39;49m, img)\n\u001b[0;32m      <a href='vscode-notebook-cell:/c%3A/Users/hp/Google%20Drive/Fiverr%20Work/2022/37.%20Examination%20Answer%20Sheet%20Marks%20Entrance%20Using%20OCR/Practice.ipynb#X12sZmlsZQ%3D%3D?line=4'>5</a>\u001b[0m cv2\u001b[39m.\u001b[39mwaitKey()\n\u001b[0;32m      <a href='vscode-notebook-cell:/c%3A/Users/hp/Google%20Drive/Fiverr%20Work/2022/37.%20Examination%20Answer%20Sheet%20Marks%20Entrance%20Using%20OCR/Practice.ipynb#X12sZmlsZQ%3D%3D?line=5'>6</a>\u001b[0m cv2\u001b[39m.\u001b[39mdestroyAllWindows()\n",
      "\u001b[1;31merror\u001b[0m: OpenCV(4.6.0) D:\\a\\opencv-python\\opencv-python\\opencv\\modules\\highgui\\src\\window.cpp:967: error: (-215:Assertion failed) size.width>0 && size.height>0 in function 'cv::imshow'\n"
     ]
    }
   ],
   "source": [
    "path = \"C:\\\\Users\\\\hp\\\\Google Drive\\\\Fiverr Work\\\\2022\\\\37. Examination Answer Sheet Marks Entrance Using OCR\\\\Updated\\\\Attendance Sheet Images\"\n",
    "img = cv2.imread(path+\"02.jpg\")\n",
    "\n",
    "cv2.imshow(\"Input Image\", img)\n",
    "cv2.waitKey()\n",
    "cv2.destroyAllWindows()"
   ]
  },
  {
   "cell_type": "code",
   "execution_count": 1,
   "metadata": {},
   "outputs": [
    {
     "name": "stderr",
     "output_type": "stream",
     "text": [
      "C:\\Users\\hp\\AppData\\Roaming\\Python\\Python39\\site-packages\\tqdm\\auto.py:22: TqdmWarning: IProgress not found. Please update jupyter and ipywidgets. See https://ipywidgets.readthedocs.io/en/stable/user_install.html\n",
      "  from .autonotebook import tqdm as notebook_tqdm\n"
     ]
    }
   ],
   "source": [
    "import easyocr"
   ]
  },
  {
   "cell_type": "code",
   "execution_count": 2,
   "metadata": {},
   "outputs": [
    {
     "name": "stderr",
     "output_type": "stream",
     "text": [
      "Using CPU. Note: This module is much faster with a GPU.\n",
      "Downloading detection model, please wait. This may take several minutes depending upon your network connection.\n"
     ]
    },
    {
     "name": "stdout",
     "output_type": "stream",
     "text": [
      "Progress: |██████████████████████████████████████████████████| 100.0% Complete"
     ]
    },
    {
     "name": "stderr",
     "output_type": "stream",
     "text": [
      "Downloading recognition model, please wait. This may take several minutes depending upon your network connection.\n"
     ]
    },
    {
     "name": "stdout",
     "output_type": "stream",
     "text": [
      "Progress: |██████████████████████████████████████████████████| 100.0% Complete"
     ]
    }
   ],
   "source": [
    "reader = easyocr.Reader(['en'], gpu=False)"
   ]
  },
  {
   "cell_type": "code",
   "execution_count": 3,
   "metadata": {},
   "outputs": [],
   "source": [
    "results = reader.readtext(\"11.jpg\")"
   ]
  },
  {
   "cell_type": "code",
   "execution_count": 4,
   "metadata": {},
   "outputs": [
    {
     "data": {
      "text/plain": [
       "[([[1395, 355], [3066, 355], [3066, 553], [1395, 553]],\n",
       "  'DR. A. Q. KHAN INSTITUTE',\n",
       "  0.36182487909857913),\n",
       " ([[204, 522], [4057, 522], [4057, 762], [204, 762]],\n",
       "  'OF COMPUTER SCIENCES AND INFORMATION TECHNOLOGY',\n",
       "  0.9882175834474739),\n",
       " ([[1490, 736], [2973, 736], [2973, 892], [1490, 892]],\n",
       "  'Examination Answer Sheet',\n",
       "  0.7260370881154387),\n",
       " ([[2785, 959], [3380, 959], [3380, 1088], [2785, 1088]],\n",
       "  'Serial No: E',\n",
       "  0.7547339979368962),\n",
       " ([[3407, 894], [3921, 894], [3921, 1091], [3407, 1091]],\n",
       "  '014092',\n",
       "  0.8356008635101411),\n",
       " ([[141, 1301], [492, 1301], [492, 1425], [141, 1425]],\n",
       "  'Name',\n",
       "  0.9999860525131226),\n",
       " ([[526, 1303], [1128, 1303], [1128, 1423], [526, 1423]],\n",
       "  'of Student',\n",
       "  0.9875606086267988),\n",
       " ([[1303, 1228], [1667, 1228], [1667, 1423], [1303, 1423]],\n",
       "  'Zia',\n",
       "  0.9742281367438248),\n",
       " ([[1754, 1256], [1999, 1256], [1999, 1424], [1754, 1424]],\n",
       "  'Ux',\n",
       "  0.33201859904664716),\n",
       " ([[2080, 1215], [2746, 1215], [2746, 1416], [2080, 1416]],\n",
       "  'Rehman',\n",
       "  0.9982283634159553),\n",
       " ([[162, 1530], [422, 1530], [422, 1651], [162, 1651]],\n",
       "  'UET',\n",
       "  0.9998275940751399),\n",
       " ([[771, 1534], [967, 1534], [967, 1647], [771, 1647]],\n",
       "  'No:',\n",
       "  0.9828611228048046),\n",
       " ([[1114, 1481], [1979, 1481], [1979, 1658], [1114, 1658]],\n",
       "  '12224021',\n",
       "  0.6813273807321377),\n",
       " ([[2162, 1519], [2754, 1519], [2754, 1660], [2162, 1660]],\n",
       "  'Programme',\n",
       "  0.9220671705342494),\n",
       " ([[2937, 1464], [3462, 1464], [3462, 1632], [2937, 1632]],\n",
       "  'BSCE',\n",
       "  0.866306722164154),\n",
       " ([[160, 1756], [610, 1756], [610, 1900], [160, 1900]],\n",
       "  'Subject',\n",
       "  0.9999905830985367),\n",
       " ([[697, 1695], [1366, 1695], [1366, 1869], [697, 1869]],\n",
       "  'Mcching',\n",
       "  0.7346109654573881),\n",
       " ([[2135, 1735], [2382, 1735], [2382, 1856], [2135, 1856]],\n",
       "  'Date',\n",
       "  0.9999974966049194),\n",
       " ([[2640, 1662], [3842, 1662], [3842, 1851], [2640, 1851]],\n",
       "  '22-4-223',\n",
       "  0.40984349433581674),\n",
       " ([[3605.2566623974617, 1457.0896252553773],\n",
       "   [3805.1161692273204, 1441.1849130932621],\n",
       "   [3807.7433376025383, 1587.9103747446227],\n",
       "   [3607.8838307726796, 1603.8150869067379]],\n",
       "  '08',\n",
       "  0.9990533444877268),\n",
       " ([[469.89192471727034, 1519.0409836831493],\n",
       "   [743.4107127426171, 1557.8369052076885],\n",
       "   [718.1080752827297, 1683.9590163168507],\n",
       "   [444.58928725738286, 1644.1630947923115]],\n",
       "  'Reg:',\n",
       "  0.8286352157592773),\n",
       " ([[1415.004189090705, 1616.0177134488097],\n",
       "   [2086.6223703234073, 1724.4169161346813],\n",
       "   [2033.995810909295, 1952.9822865511903],\n",
       "   [1362.3776296765927, 1844.5830838653187]],\n",
       "  'Leamuy',\n",
       "  0.22695059149084715)]"
      ]
     },
     "execution_count": 4,
     "metadata": {},
     "output_type": "execute_result"
    }
   ],
   "source": [
    "results"
   ]
  },
  {
   "cell_type": "code",
   "execution_count": null,
   "metadata": {},
   "outputs": [],
   "source": []
  }
 ],
 "metadata": {
  "kernelspec": {
   "display_name": "Python 3",
   "language": "python",
   "name": "python3"
  },
  "language_info": {
   "codemirror_mode": {
    "name": "ipython",
    "version": 3
   },
   "file_extension": ".py",
   "mimetype": "text/x-python",
   "name": "python",
   "nbconvert_exporter": "python",
   "pygments_lexer": "ipython3",
   "version": "3.9.1"
  },
  "orig_nbformat": 4,
  "vscode": {
   "interpreter": {
    "hash": "b671c20432fcd147198c92e7f072af9e705f087eb990bee22b07f08caab9f630"
   }
  }
 },
 "nbformat": 4,
 "nbformat_minor": 2
}
