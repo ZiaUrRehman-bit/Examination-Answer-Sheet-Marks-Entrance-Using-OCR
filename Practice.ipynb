{
 "cells": [
  {
   "attachments": {},
   "cell_type": "markdown",
   "metadata": {},
   "source": [
    "## **<center><font style=\"color:rgb(100,109,254)\">Examination Answer Sheet Marks Entrance Using OCR</font> </center>**\n",
    "### **<center><font style=\"color:rgb(100,109,254)\">Machine Learning Project</font> </center>**"
   ]
  },
  {
   "cell_type": "code",
   "execution_count": 2,
   "metadata": {},
   "outputs": [
    {
     "name": "stdout",
     "output_type": "stream",
     "text": [
      "4.6.0\n"
     ]
    }
   ],
   "source": [
    "import cv2\n",
    "print(cv2.__version__)\n",
    "import pytesseract\n",
    "\n",
    "pytesseract.pytesseract.tesseract_cmd = \"C:\\\\Program Files\\\\Tesseract-OCR\\\\tesseract.exe\"\n"
   ]
  },
  {
   "cell_type": "code",
   "execution_count": 20,
   "metadata": {},
   "outputs": [
    {
     "name": "stdout",
     "output_type": "stream",
     "text": [
      "['22.jpeg']\n"
     ]
    },
    {
     "ename": "AttributeError",
     "evalue": "'tuple' object has no attribute 'sort'",
     "output_type": "error",
     "traceback": [
      "\u001b[1;31m---------------------------------------------------------------------------\u001b[0m",
      "\u001b[1;31mAttributeError\u001b[0m                            Traceback (most recent call last)",
      "\u001b[1;32mc:\\Users\\hp\\Google Drive\\Fiverr Work\\2022\\37. Examination Answer Sheet Marks Entrance Using OCR\\Practice.ipynb Cell 3\u001b[0m in \u001b[0;36m2\n\u001b[0;32m     <a href='vscode-notebook-cell:/c%3A/Users/hp/Google%20Drive/Fiverr%20Work/2022/37.%20Examination%20Answer%20Sheet%20Marks%20Entrance%20Using%20OCR/Practice.ipynb#W2sZmlsZQ%3D%3D?line=19'>20</a>\u001b[0m bf \u001b[39m=\u001b[39m cv2\u001b[39m.\u001b[39mBFMatcher(cv2\u001b[39m.\u001b[39mNORM_HAMMING)\n\u001b[0;32m     <a href='vscode-notebook-cell:/c%3A/Users/hp/Google%20Drive/Fiverr%20Work/2022/37.%20Examination%20Answer%20Sheet%20Marks%20Entrance%20Using%20OCR/Practice.ipynb#W2sZmlsZQ%3D%3D?line=20'>21</a>\u001b[0m matches \u001b[39m=\u001b[39m bf\u001b[39m.\u001b[39mmatch(des2, des1)\n\u001b[1;32m---> <a href='vscode-notebook-cell:/c%3A/Users/hp/Google%20Drive/Fiverr%20Work/2022/37.%20Examination%20Answer%20Sheet%20Marks%20Entrance%20Using%20OCR/Practice.ipynb#W2sZmlsZQ%3D%3D?line=22'>23</a>\u001b[0m matches\u001b[39m.\u001b[39;49msort(key \u001b[39m=\u001b[39m \u001b[39mlambda\u001b[39;00m x: x\u001b[39m.\u001b[39mdistance)\n\u001b[0;32m     <a href='vscode-notebook-cell:/c%3A/Users/hp/Google%20Drive/Fiverr%20Work/2022/37.%20Examination%20Answer%20Sheet%20Marks%20Entrance%20Using%20OCR/Practice.ipynb#W2sZmlsZQ%3D%3D?line=23'>24</a>\u001b[0m good \u001b[39m=\u001b[39m matches[:\u001b[39mint\u001b[39m(\u001b[39mlen\u001b[39m(matches)\u001b[39m*\u001b[39m(per\u001b[39m/\u001b[39m\u001b[39m100\u001b[39m))]\n\u001b[0;32m     <a href='vscode-notebook-cell:/c%3A/Users/hp/Google%20Drive/Fiverr%20Work/2022/37.%20Examination%20Answer%20Sheet%20Marks%20Entrance%20Using%20OCR/Practice.ipynb#W2sZmlsZQ%3D%3D?line=25'>26</a>\u001b[0m imgMatch \u001b[39m=\u001b[39m cv2\u001b[39m.\u001b[39mdrawMatches(img, kp2, imgq, kp1, good, \u001b[39mNone\u001b[39;00m, flags\u001b[39m=\u001b[39m\u001b[39m2\u001b[39m)\n",
      "\u001b[1;31mAttributeError\u001b[0m: 'tuple' object has no attribute 'sort'"
     ]
    }
   ],
   "source": [
    "import os\n",
    "\n",
    "imgq = cv2.imread(\"QueryImage.PNG\")\n",
    "h,w,c = imgq.shape\n",
    "# imgq = cv2.resize(imgq, (w//2, h//2))\n",
    "\n",
    "orb = cv2.ORB_create(1000)\n",
    "kp1, des1 = orb.detectAndCompute(imgq,None)\n",
    "# imgKp1 = cv2.drawKeypoints(imgq, kp1, None)\n",
    "per = 25\n",
    "path = 'UserForms'\n",
    "myImageList = os.listdir(path)\n",
    "print(myImageList)\n",
    "\n",
    "for j, y in enumerate(myImageList):\n",
    "    img = cv2.imread(path+\"/\"+y)\n",
    "    img = cv2.resize(img, (w,h))\n",
    "    # cv2.imshow(y, img)\n",
    "    kp2, des2 =  orb.detectAndCompute(img,None)\n",
    "    bf = cv2.BFMatcher(cv2.NORM_HAMMING)\n",
    "    matches = bf.match(des2, des1)\n",
    "\n",
    "    # matches.sort(key = lambda x: x.distance)\n",
    "    good = matches[:int(len(matches)*(per/100))]\n",
    "\n",
    "    imgMatch = cv2.drawMatches(img, kp2, imgq, kp1, good, None, flags=2)\n",
    "    cv2.imshow(y, imgMatch)\n",
    "\n",
    "\n",
    "\n",
    "# cv2.imshow(\"Image KP1\", imgKp1)\n",
    "cv2.imshow(\"Image\", imgq)\n",
    "cv2.waitKey()\n",
    "cv2.destroyAllWindows()"
   ]
  },
  {
   "cell_type": "code",
   "execution_count": null,
   "metadata": {},
   "outputs": [],
   "source": []
  }
 ],
 "metadata": {
  "kernelspec": {
   "display_name": "Python 3",
   "language": "python",
   "name": "python3"
  },
  "language_info": {
   "codemirror_mode": {
    "name": "ipython",
    "version": 3
   },
   "file_extension": ".py",
   "mimetype": "text/x-python",
   "name": "python",
   "nbconvert_exporter": "python",
   "pygments_lexer": "ipython3",
   "version": "3.9.1"
  },
  "orig_nbformat": 4
 },
 "nbformat": 4,
 "nbformat_minor": 2
}
