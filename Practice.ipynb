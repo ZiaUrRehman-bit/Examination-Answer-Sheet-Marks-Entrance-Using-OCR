{
 "cells": [
  {
   "attachments": {},
   "cell_type": "markdown",
   "metadata": {},
   "source": [
    "## **<center><font style=\"color:rgb(100,109,254)\">Examination Answer Sheet Marks Entrance Using OCR</font> </center>**\n",
    "### **<center><font style=\"color:rgb(100,109,254)\">Machine Learning Project</font> </center>**"
   ]
  },
  {
   "cell_type": "code",
   "execution_count": 2,
   "metadata": {},
   "outputs": [
    {
     "name": "stdout",
     "output_type": "stream",
     "text": [
      "4.6.0\n"
     ]
    }
   ],
   "source": [
    "import cv2\n",
    "print(cv2.__version__)\n",
    "import pytesseract\n",
    "\n",
    "pytesseract.pytesseract.tesseract_cmd = \"C:\\\\Program Files\\\\Tesseract-OCR\\\\tesseract.exe\"\n"
   ]
  },
  {
   "cell_type": "code",
   "execution_count": 3,
   "metadata": {},
   "outputs": [
    {
     "name": "stdout",
     "output_type": "stream",
     "text": [
      "['22.jpeg']\n"
     ]
    }
   ],
   "source": [
    "import os\n",
    "import numpy as np\n",
    "\n",
    "imgq = cv2.imread(\"QueryImage.PNG\")\n",
    "h,w,c = imgq.shape\n",
    "# imgq = cv2.resize(imgq, (w//2, h//2))\n",
    "\n",
    "orb = cv2.ORB_create(1000)\n",
    "kp1, des1 = orb.detectAndCompute(imgq,None)\n",
    "# imgKp1 = cv2.drawKeypoints(imgq, kp1, None)\n",
    "per = 25\n",
    "\n",
    "roi = []\n",
    "\n",
    "path = 'UserForms'\n",
    "myImageList = os.listdir(path)\n",
    "print(myImageList)\n",
    "\n",
    "for j, y in enumerate(myImageList):\n",
    "    img = cv2.imread(path+\"/\"+y)\n",
    "    img = cv2.resize(img, (w,h))\n",
    "    # cv2.imshow(\"ss\", img)\n",
    "    kp2, des2 =  orb.detectAndCompute(img,None)\n",
    "    bf = cv2.BFMatcher(cv2.NORM_HAMMING)\n",
    "    matches = bf.match(des2, des1)\n",
    "    # matches.sort(key= lambda x: x.distance)\n",
    "    good = matches[:int(len(matches)*(per/100))]\n",
    "\n",
    "    imgMatch = cv2.drawMatches(img, kp2, imgq, kp1, good, None, flags=2)\n",
    "    # imgMatch = cv2.resize(imgMatch, (w,h))\n",
    "    # cv2.imshow(y, imgMatch)\n",
    "\n",
    "    srcPonits = np.float32([kp2[m.queryIdx].pt for m in good]).reshape(-1, 1, 2)\n",
    "    dstPonits = np.float32([kp1[m.trainIdx].pt for m in good]).reshape(-1, 1, 2)\n",
    "\n",
    "    M, _ = cv2.findHomography(srcPonits, dstPonits, cv2.RANSAC, 11.0)\n",
    "    imgScan = cv2.warpPerspective(img, M, (w, h))\n",
    "    # imgScan = cv2.resize(imgScan, (w,h))\n",
    "    cv2.imshow(y, imgScan)\n",
    "\n",
    "\n",
    "\n",
    "# cv2.imshow(\"Image KP1\", imgKp1)\n",
    "cv2.imshow(\"Image\", imgq)\n",
    "cv2.waitKey()\n",
    "cv2.destroyAllWindows()"
   ]
  },
  {
   "cell_type": "code",
   "execution_count": null,
   "metadata": {},
   "outputs": [],
   "source": [
    "cv2.destroyAllWindows()"
   ]
  },
  {
   "cell_type": "code",
   "execution_count": null,
   "metadata": {},
   "outputs": [],
   "source": []
  }
 ],
 "metadata": {
  "kernelspec": {
   "display_name": "Python 3",
   "language": "python",
   "name": "python3"
  },
  "language_info": {
   "codemirror_mode": {
    "name": "ipython",
    "version": 3
   },
   "file_extension": ".py",
   "mimetype": "text/x-python",
   "name": "python",
   "nbconvert_exporter": "python",
   "pygments_lexer": "ipython3",
   "version": "3.9.1"
  },
  "orig_nbformat": 4
 },
 "nbformat": 4,
 "nbformat_minor": 2
}
